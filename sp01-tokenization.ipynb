{
 "cells": [
  {
   "cell_type": "markdown",
   "metadata": {},
   "source": [
    "### Sentence Tokens\n",
    "  * Tokenization == Splitting or segmenting the text into sentences or tokens\n",
    "  * .sent"
   ]
  },
  {
   "cell_type": "code",
   "execution_count": null,
   "metadata": {},
   "outputs": [],
   "source": [
    "import spacy\n",
    "nlp = spacy.load('en')"
   ]
  },
  {
   "cell_type": "code",
   "execution_count": 3,
   "metadata": {},
   "outputs": [],
   "source": [
    "docx = nlp(\"India was known as the golden bird before the britishers' invasion\")"
   ]
  },
  {
   "cell_type": "code",
   "execution_count": 12,
   "metadata": {},
   "outputs": [
    {
     "data": {
      "text/plain": [
       "India was known as the golden bird before the britishers' invasion"
      ]
     },
     "execution_count": 12,
     "metadata": {},
     "output_type": "execute_result"
    }
   ],
   "source": [
    "docx"
   ]
  },
  {
   "cell_type": "code",
   "execution_count": 5,
   "metadata": {},
   "outputs": [],
   "source": [
    "docx2 = nlp(\"A will will find a way\")"
   ]
  },
  {
   "cell_type": "code",
   "execution_count": 20,
   "metadata": {},
   "outputs": [],
   "source": [
    "myfile = open(\"examplefile.txt\").read()"
   ]
  },
  {
   "cell_type": "code",
   "execution_count": 21,
   "metadata": {},
   "outputs": [],
   "source": [
    "doc_file = nlp(myfile)"
   ]
  },
  {
   "cell_type": "code",
   "execution_count": 22,
   "metadata": {},
   "outputs": [],
   "source": [
    "doc_file2 = nlp(open(\"examplefile.txt\").read())"
   ]
  },
  {
   "cell_type": "code",
   "execution_count": 23,
   "metadata": {},
   "outputs": [],
   "source": [
    "# Sentence Tokens\n",
    "#### Tokenization == Splitting or segmenting the text into sentences."
   ]
  },
  {
   "cell_type": "code",
   "execution_count": 24,
   "metadata": {},
   "outputs": [
    {
     "name": "stdout",
     "output_type": "stream",
     "text": [
      "0: More recently, sensor technology and real-time data collection have produced bumper crops of employee information for companies.\n",
      "1: Now managers can access second-by-second feedback on what a worker is doing and, to some extent, what a worker is feeling.\n",
      "2: Data from emails, chats, and calendar systems can be analyzed alongside traditional HR data.\n",
      "3: Sensors can gather incredibly granular data on workers’ habits — everything from who speaks with whom, how much people interrupt one another, where they spend time, and even their stress levels.\n",
      "4: And as ID badges and office furniture join the internet of things, the information that companies have on their workers will expand by orders of magnitude.\n",
      "5: HR departments now have the potential to know nearly everything about employees.\n",
      "\n"
     ]
    }
   ],
   "source": [
    "for num,sentence in enumerate(doc_file.sents):\n",
    "    print(f'{num}: {sentence}')"
   ]
  },
  {
   "cell_type": "markdown",
   "metadata": {},
   "source": [
    "### Word Tokens\n",
    " * Tokenization == Splitting or segmenting the text into words."
   ]
  },
  {
   "cell_type": "code",
   "execution_count": 30,
   "metadata": {},
   "outputs": [
    {
     "name": "stdout",
     "output_type": "stream",
     "text": [
      "India\n",
      "was\n",
      "known\n",
      "as\n",
      "the\n",
      "golden\n",
      "bird\n",
      "before\n",
      "the\n",
      "britishers\n",
      "'\n",
      "invasion\n"
     ]
    }
   ],
   "source": [
    "# Word Tokens\n",
    "for token in docx:\n",
    "    print(token.text)"
   ]
  },
  {
   "cell_type": "code",
   "execution_count": 31,
   "metadata": {},
   "outputs": [
    {
     "data": {
      "text/plain": [
       "['India',\n",
       " 'was',\n",
       " 'known',\n",
       " 'as',\n",
       " 'the',\n",
       " 'golden',\n",
       " 'bird',\n",
       " 'before',\n",
       " 'the',\n",
       " 'britishers',\n",
       " \"'\",\n",
       " 'invasion']"
      ]
     },
     "execution_count": 31,
     "metadata": {},
     "output_type": "execute_result"
    }
   ],
   "source": [
    "# List of Word Tokens\n",
    "[ token.text for token in docx]"
   ]
  },
  {
   "cell_type": "markdown",
   "metadata": {},
   "source": [
    "### More about words\n",
    " * .shape\n",
    " * is_alpha\n",
    " * is_stop"
   ]
  },
  {
   "cell_type": "code",
   "execution_count": 41,
   "metadata": {},
   "outputs": [
    {
     "name": "stdout",
     "output_type": "stream",
     "text": [
      "Token => India Shape Xxxxx True False\n",
      "Token => was Shape xxx True True\n",
      "Token => known Shape xxxx True False\n",
      "Token => as Shape xx True True\n",
      "Token => the Shape xxx True True\n",
      "Token => golden Shape xxxx True False\n",
      "Token => bird Shape xxxx True False\n",
      "Token => before Shape xxxx True True\n",
      "Token => the Shape xxx True True\n",
      "Token => britishers Shape xxxx True False\n",
      "Token => ' Shape ' False False\n",
      "Token => invasion Shape xxxx True False\n"
     ]
    }
   ],
   "source": [
    "# Word Shape\n",
    "for word in docx:\n",
    "    print(\"Token =>\",word.text, \"Shape\",word.shape_, word.is_alpha, word.is_stop)"
   ]
  },
  {
   "cell_type": "code",
   "execution_count": null,
   "metadata": {},
   "outputs": [],
   "source": [
    "ex_doc = nlp()"
   ]
  }
 ],
 "metadata": {
  "kernelspec": {
   "display_name": "Python 3",
   "language": "python",
   "name": "python3"
  },
  "language_info": {
   "codemirror_mode": {
    "name": "ipython",
    "version": 3
   },
   "file_extension": ".py",
   "mimetype": "text/x-python",
   "name": "python",
   "nbconvert_exporter": "python",
   "pygments_lexer": "ipython3",
   "version": "3.6.5"
  }
 },
 "nbformat": 4,
 "nbformat_minor": 2
}
