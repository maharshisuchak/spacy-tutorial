{
 "cells": [
  {
   "cell_type": "code",
   "execution_count": 10,
   "metadata": {},
   "outputs": [
    {
     "name": "stdout",
     "output_type": "stream",
     "text": [
      "1 completed\n",
      "2 completed\n",
      "Done!\n"
     ]
    }
   ],
   "source": [
    "from PIL import Image\n",
    "\n",
    "import pytesseract\n",
    "import pandas as pd\n",
    "import os\n",
    "\n",
    "df=pd.DataFrame()\n",
    "\n",
    "folderPath=\"/Users/happythoughts/Documents/test/\"\n",
    "files=os.listdir(folderPath)\n",
    "# Loop to scan all the images from the folderPath\n",
    "for idx,file in enumerate(files):\n",
    "    imagePath=os.path.join(folderPath,file)\n",
    "    im = Image.open(imagePath)\n",
    "    text = pytesseract.image_to_string(im, lang = 'eng')\n",
    "    df=df.append({\"text\":text},ignore_index=True)\n",
    "    print(idx+1,\"completed\")\n",
    "    \n",
    "#     print(idx,\"\":\"\",text,'\\n' & Save to Excel sheet)\n",
    "df.to_excel(\"/Users/happythoughts/projects/python/vistingcard-text-result.xlsx\")\n",
    "print(\"Done!\")"
   ]
  },
  {
   "cell_type": "code",
   "execution_count": null,
   "metadata": {},
   "outputs": [],
   "source": []
  },
  {
   "cell_type": "code",
   "execution_count": null,
   "metadata": {},
   "outputs": [],
   "source": []
  }
 ],
 "metadata": {
  "kernelspec": {
   "display_name": "Python 3",
   "language": "python",
   "name": "python3"
  },
  "language_info": {
   "codemirror_mode": {
    "name": "ipython",
    "version": 3
   },
   "file_extension": ".py",
   "mimetype": "text/x-python",
   "name": "python",
   "nbconvert_exporter": "python",
   "pygments_lexer": "ipython3",
   "version": "3.6.5"
  }
 },
 "nbformat": 4,
 "nbformat_minor": 2
}
