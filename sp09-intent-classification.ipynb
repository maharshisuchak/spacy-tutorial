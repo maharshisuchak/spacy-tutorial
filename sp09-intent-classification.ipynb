{
 "cells": [
  {
   "cell_type": "code",
   "execution_count": 363,
   "metadata": {},
   "outputs": [],
   "source": [
    "# Load the Packages\n",
    "import spacy\n",
    "from rasa_nlu.training_data import load_data\n",
    "from rasa_nlu.config import RasaNLUModelConfig\n",
    "from rasa_nlu.model import Trainer\n",
    "from rasa_nlu import config"
   ]
  },
  {
   "cell_type": "code",
   "execution_count": 364,
   "metadata": {},
   "outputs": [
    {
     "name": "stdout",
     "output_type": "stream",
     "text": [
      "{\n",
      "  \"rasa_nlu_data\": {\n",
      "    \"regex_features\": [\n",
      "      {\n",
      "        \"name\": \"zipcode\",\n",
      "        \"pattern\": \"[0-9]{5}\"\n",
      "      },\n",
      "      {\n",
      "        \"name\": \"greet\",\n",
      "        \"pattern\": \"hey[^\\\\s]*\"\n",
      "      }\n",
      "    ],\n",
      "    \"entity_synonyms\": [\n",
      "      {\n",
      "        \"value\": \"chinese\",\n",
      "        \"synonyms\": [\"Chinese\", \"Chines\", \"chines\"]\n",
      "      },\n",
      "      {\n",
      "        \"value\": \"vegetarian\",\n",
      "        \"synonyms\": [\"veggie\", \"vegg\"]\n",
      "      }\n",
      "    ],\n",
      "    \"common_examples\": [\n",
      "      {\n",
      "        \"text\": \"hey\", \n",
      "        \"intent\": \"greet\", \n",
      "        \"entities\": []\n",
      "      }, \n",
      "      {\n",
      "        \"text\": \"howdy\", \n",
      "        \"intent\": \"greet\", \n",
      "        \"entities\": []\n",
      "      }, \n",
      "      {\n",
      "        \"text\": \"hey there\",\n",
      "        \"intent\": \"greet\", \n",
      "        \"entities\": []\n",
      "      }, \n",
      "      {\n",
      "        \"text\": \"hello\", \n",
      "        \"intent\": \"greet\", \n",
      "        \"entities\": []\n",
      "      }, \n",
      "      {\n",
      "        \"text\": \"hi\", \n",
      "        \"intent\": \"greet\", \n",
      "        \"entities\": []\n",
      "      },\n",
      "      {\n",
      "        \"text\": \"good morning\",\n",
      "        \"intent\": \"greet\",\n",
      "        \"entities\": []\n",
      "      },\n",
      "      {\n",
      "        \"text\": \"good evening\",\n",
      "        \"intent\": \"greet\",\n",
      "        \"entities\": []\n",
      "      },\n",
      "      {\n",
      "        \"text\": \"dear sir\",\n",
      "        \"intent\": \"greet\",\n",
      "        \"entities\": []\n",
      "      },\n",
      "      {\n",
      "        \"text\": \"yes\", \n",
      "        \"intent\": \"affirm\", \n",
      "        \"entities\": []\n",
      "      }, \n",
      "      {\n",
      "        \"text\": \"yep\", \n",
      "        \"intent\": \"affirm\", \n",
      "        \"entities\": []\n",
      "      }, \n",
      "      {\n",
      "        \"text\": \"yeah\", \n",
      "        \"intent\": \"affirm\", \n",
      "        \"entities\": []\n",
      "      },\n",
      "      {\n",
      "        \"text\": \"indeed\",\n",
      "        \"intent\": \"affirm\",\n",
      "        \"entities\": []\n",
      "      },\n",
      "      {\n",
      "        \"text\": \"that's right\",\n",
      "        \"intent\": \"affirm\",\n",
      "        \"entities\": []\n",
      "      },\n",
      "      {\n",
      "        \"text\": \"ok\",\n",
      "        \"intent\": \"affirm\",\n",
      "        \"entities\": []\n",
      "      },\n",
      "      {\n",
      "        \"text\": \"great\",\n",
      "        \"intent\": \"affirm\",\n",
      "        \"entities\": []\n",
      "      },\n",
      "      {\n",
      "        \"text\": \"right, thank you\",\n",
      "        \"intent\": \"affirm\",\n",
      "        \"entities\": []\n",
      "      },\n",
      "      {\n",
      "        \"text\": \"correct\",\n",
      "        \"intent\": \"affirm\",\n",
      "        \"entities\": []\n",
      "      },\n",
      "      {\n",
      "        \"text\": \"great choice\",\n",
      "        \"intent\": \"affirm\",\n",
      "        \"entities\": []\n",
      "      },\n",
      "      {\n",
      "        \"text\": \"sounds really good\",\n",
      "        \"intent\": \"affirm\",\n",
      "        \"entities\": []\n",
      "      },\n",
      "      {\n",
      "        \"text\": \"i'm looking for a place to eat\",\n",
      "        \"intent\": \"restaurant_search\",\n",
      "        \"entities\": []\n",
      "      },\n",
      "      {\n",
      "        \"text\": \"I want to grab lunch\",\n",
      "        \"intent\": \"restaurant_search\",\n",
      "        \"entities\": []\n",
      "      },\n",
      "      {\n",
      "        \"text\": \"I am searching for a dinner spot\",\n",
      "        \"intent\": \"restaurant_search\",\n",
      "        \"entities\": []\n",
      "      },\n",
      "      {\n",
      "        \"text\": \"i'm looking for a place in the north of town\",\n",
      "        \"intent\": \"restaurant_search\",\n",
      "        \"entities\": [\n",
      "          {\n",
      "            \"start\": 31,\n",
      "            \"end\": 36,\n",
      "            \"value\": \"north\",\n",
      "            \"entity\": \"location\"\n",
      "          }\n",
      "        ]\n",
      "      },\n",
      "      {\n",
      "        \"text\": \"show me chinese restaurants\",\n",
      "        \"intent\": \"restaurant_search\",\n",
      "        \"entities\": [\n",
      "          {\n",
      "            \"start\": 8,\n",
      "            \"end\": 15,\n",
      "            \"value\": \"chinese\",\n",
      "            \"entity\": \"cuisine\"\n",
      "          }\n",
      "        ]\n",
      "      },\n",
      "      {\n",
      "        \"text\": \"show me chines restaurants in the north\",\n",
      "        \"intent\": \"restaurant_search\",\n",
      "        \"entities\": [\n",
      "          {\n",
      "            \"start\": 8,\n",
      "            \"end\": 14,\n",
      "            \"value\": \"chinese\",\n",
      "            \"entity\": \"cuisine\"\n",
      "          },\n",
      "          {\n",
      "            \"start\": 34,\n",
      "            \"end\": 39,\n",
      "            \"value\": \"north\",\n",
      "            \"entity\": \"location\"\n",
      "          }\n",
      "        ]\n",
      "      },\n",
      "      {\n",
      "        \"text\": \"show me a mexican place in the centre\", \n",
      "        \"intent\": \"restaurant_search\", \n",
      "        \"entities\": [\n",
      "          {\n",
      "            \"start\": 31, \n",
      "            \"end\": 37, \n",
      "            \"value\": \"centre\", \n",
      "            \"entity\": \"location\"\n",
      "          }, \n",
      "          {\n",
      "            \"start\": 10, \n",
      "            \"end\": 17, \n",
      "            \"value\": \"mexican\", \n",
      "            \"entity\": \"cuisine\"\n",
      "          }\n",
      "        ]\n",
      "      },\n",
      "      {\n",
      "        \"text\": \"i am looking for an indian spot called olaolaolaolaolaola\",\n",
      "        \"intent\": \"restaurant_search\",\n",
      "        \"entities\": [\n",
      "          {\n",
      "            \"start\": 20,\n",
      "            \"end\": 26,\n",
      "            \"value\": \"indian\",\n",
      "            \"entity\": \"cuisine\"\n",
      "          }\n",
      "        ]\n",
      "      },     {\n",
      "        \"text\": \"search for restaurants\",\n",
      "        \"intent\": \"restaurant_search\",\n",
      "        \"entities\": []\n",
      "      },\n",
      "      {\n",
      "        \"text\": \"anywhere in the west\",\n",
      "        \"intent\": \"restaurant_search\",\n",
      "        \"entities\": [\n",
      "          {\n",
      "            \"start\": 16,\n",
      "            \"end\": 20,\n",
      "            \"value\": \"west\",\n",
      "            \"entity\": \"location\"\n",
      "          }\n",
      "        ]\n",
      "      },\n",
      "      {\n",
      "        \"text\": \"anywhere near 18328\",\n",
      "        \"intent\": \"restaurant_search\",\n",
      "        \"entities\": [\n",
      "          {\n",
      "            \"start\": 14,\n",
      "            \"end\": 19,\n",
      "            \"value\": \"18328\",\n",
      "            \"entity\": \"location\"\n",
      "          }\n",
      "        ]\n",
      "      },\n",
      "      {\n",
      "        \"text\": \"I am looking for asian fusion food\",\n",
      "        \"intent\": \"restaurant_search\",\n",
      "        \"entities\": [\n",
      "          {\n",
      "            \"start\": 17,\n",
      "            \"end\": 29,\n",
      "            \"value\": \"asian fusion\",\n",
      "            \"entity\": \"cuisine\"\n",
      "          }\n",
      "        ]\n",
      "      },\n",
      "      {\n",
      "        \"text\": \"I am looking a restaurant in 29432\",\n",
      "        \"intent\": \"restaurant_search\",\n",
      "        \"entities\": [\n",
      "          {\n",
      "            \"start\": 29,\n",
      "            \"end\": 34,\n",
      "            \"value\": \"29432\",\n",
      "            \"entity\": \"location\"\n",
      "          }\n",
      "        ]\n",
      "      },\n",
      "      {\n",
      "        \"text\": \"I am looking for mexican indian fusion\",\n",
      "        \"intent\": \"restaurant_search\",\n",
      "        \"entities\": [\n",
      "          {\n",
      "            \"start\": 17,\n",
      "            \"end\": 38,\n",
      "            \"value\": \"mexican indian fusion\",\n",
      "            \"entity\": \"cuisine\"\n",
      "          }\n",
      "        ]\n",
      "      },\n",
      "      {\n",
      "        \"text\": \"central indian restaurant\",\n",
      "        \"intent\": \"restaurant_search\",\n",
      "        \"entities\": [\n",
      "          {\n",
      "            \"start\": 0,\n",
      "            \"end\": 7,\n",
      "            \"value\": \"central\",\n",
      "            \"entity\": \"location\"\n",
      "          },\n",
      "          {\n",
      "            \"start\": 8,\n",
      "            \"end\": 14,\n",
      "            \"value\": \"indian\",\n",
      "            \"entity\": \"cuisine\"\n",
      "          }\n",
      "        ]\n",
      "      },\n",
      "      {\n",
      "        \"text\": \"bye\", \n",
      "        \"intent\": \"goodbye\", \n",
      "        \"entities\": []\n",
      "      }, \n",
      "      {\n",
      "        \"text\": \"goodbye\", \n",
      "        \"intent\": \"goodbye\", \n",
      "        \"entities\": []\n",
      "      }, \n",
      "      {\n",
      "        \"text\": \"good bye\", \n",
      "        \"intent\": \"goodbye\", \n",
      "        \"entities\": []\n",
      "      }, \n",
      "      {\n",
      "        \"text\": \"stop\", \n",
      "        \"intent\": \"goodbye\", \n",
      "        \"entities\": []\n",
      "      }, \n",
      "      {\n",
      "        \"text\": \"end\", \n",
      "        \"intent\": \"goodbye\", \n",
      "        \"entities\": []\n",
      "      },\n",
      "      {\n",
      "        \"text\": \"farewell\",\n",
      "        \"intent\": \"goodbye\",\n",
      "        \"entities\": []\n",
      "      },\n",
      "      {\n",
      "        \"text\": \"Bye bye\",\n",
      "        \"intent\": \"goodbye\",\n",
      "        \"entities\": []\n",
      "      },\n",
      "      {\n",
      "        \"text\": \"have a good one\",\n",
      "        \"intent\": \"goodbye\",\n",
      "        \"entities\": []\n",
      "      }\n",
      "    ]\n",
      "  }\n",
      "}\n"
     ]
    }
   ],
   "source": [
    "!cat rasa_dataset.json"
   ]
  },
  {
   "cell_type": "code",
   "execution_count": 365,
   "metadata": {},
   "outputs": [],
   "source": [
    "# Loading Dataset\n",
    "train_data = load_data('rasa_dataset.json')"
   ]
  },
  {
   "cell_type": "code",
   "execution_count": 366,
   "metadata": {},
   "outputs": [],
   "source": [
    "# Config Backend using Sklearn and Spacy\n",
    "trainer = Trainer(config.load(\"config_spacy.yml\"))"
   ]
  },
  {
   "cell_type": "code",
   "execution_count": 367,
   "metadata": {},
   "outputs": [],
   "source": [
    "nlp = spacy.load('en')"
   ]
  },
  {
   "cell_type": "code",
   "execution_count": 369,
   "metadata": {},
   "outputs": [
    {
     "name": "stdout",
     "output_type": "stream",
     "text": [
      "Fitting 2 folds for each of 6 candidates, totalling 12 fits\n"
     ]
    },
    {
     "name": "stderr",
     "output_type": "stream",
     "text": [
      "[Parallel(n_jobs=1)]: Done  12 out of  12 | elapsed:    0.1s finished\n"
     ]
    },
    {
     "data": {
      "text/plain": [
       "<rasa_nlu.model.Interpreter at 0x1a62dff390>"
      ]
     },
     "execution_count": 369,
     "metadata": {},
     "output_type": "execute_result"
    }
   ],
   "source": [
    "# Training Data\n",
    "trainer.train(train_data)"
   ]
  },
  {
   "cell_type": "code",
   "execution_count": 370,
   "metadata": {},
   "outputs": [],
   "source": [
    "# Returns the directory the model is stored in (Create a folder to store model in)\n",
    "model_directory = trainer.persist('data_intent/')\n"
   ]
  },
  {
   "cell_type": "code",
   "execution_count": 377,
   "metadata": {},
   "outputs": [],
   "source": [
    "## Entity Extraction"
   ]
  },
  {
   "cell_type": "code",
   "execution_count": 378,
   "metadata": {},
   "outputs": [],
   "source": [
    "import spacy\n",
    "nlp = spacy.load('en')"
   ]
  },
  {
   "cell_type": "code",
   "execution_count": 379,
   "metadata": {},
   "outputs": [],
   "source": [
    "docx = nlp(u\"I am looking for an Italian Restaurant where I can eat\")"
   ]
  },
  {
   "cell_type": "code",
   "execution_count": 380,
   "metadata": {},
   "outputs": [
    {
     "name": "stdout",
     "output_type": "stream",
     "text": [
      "value Italian entity NORP start 20 end 27\n"
     ]
    }
   ],
   "source": [
    "for word in docx.ents:\n",
    "    print(\"value\",word.text,\"entity\",word.label_,\"start\",word.start_char,\"end\",word.end_char)"
   ]
  },
  {
   "cell_type": "code",
   "execution_count": 381,
   "metadata": {},
   "outputs": [],
   "source": [
    "# Making Predictions with Model\n",
    "#### Interpreter.load().parse()"
   ]
  },
  {
   "cell_type": "code",
   "execution_count": 376,
   "metadata": {},
   "outputs": [],
   "source": [
    "from rasa_nlu.model import Metadata, Interpreter"
   ]
  },
  {
   "cell_type": "code",
   "execution_count": 382,
   "metadata": {},
   "outputs": [],
   "source": [
    "# where model directory points to the folder the model is persisted in\n",
    "interpreter = Interpreter.load(model_directory)"
   ]
  },
  {
   "cell_type": "code",
   "execution_count": 384,
   "metadata": {},
   "outputs": [
    {
     "data": {
      "text/plain": [
       "{'intent': {'name': 'restaurant_search', 'confidence': 0.7448330237730194},\n",
       " 'entities': [],\n",
       " 'intent_ranking': [{'name': 'restaurant_search',\n",
       "   'confidence': 0.7448330237730194},\n",
       "  {'name': 'affirm', 'confidence': 0.15787076829328456},\n",
       "  {'name': 'greet', 'confidence': 0.04953259557717326},\n",
       "  {'name': 'goodbye', 'confidence': 0.047763612356522794}],\n",
       " 'text': 'I am looking for an italian Restaurant where I can eat'}"
      ]
     },
     "execution_count": 384,
     "metadata": {},
     "output_type": "execute_result"
    }
   ],
   "source": [
    "# Prediction of Intent\n",
    "interpreter.parse(u\"I am looking for an italian Restaurant where I can eat\")"
   ]
  },
  {
   "cell_type": "code",
   "execution_count": 386,
   "metadata": {},
   "outputs": [
    {
     "data": {
      "text/plain": [
       "{'intent': {'name': 'restaurant_search', 'confidence': 0.7652650613674715},\n",
       " 'entities': [],\n",
       " 'intent_ranking': [{'name': 'restaurant_search',\n",
       "   'confidence': 0.7652650613674715},\n",
       "  {'name': 'affirm', 'confidence': 0.14632645737247282},\n",
       "  {'name': 'greet', 'confidence': 0.04611668563045949},\n",
       "  {'name': 'goodbye', 'confidence': 0.042291795629596014}],\n",
       " 'text': 'I am looking for an chinese Restaurant where I can eat'}"
      ]
     },
     "execution_count": 386,
     "metadata": {},
     "output_type": "execute_result"
    }
   ],
   "source": [
    "# Prediction of Intent\n",
    "interpreter.parse(\"I am looking for an chinese Restaurant where I can eat\")"
   ]
  },
  {
   "cell_type": "code",
   "execution_count": 388,
   "metadata": {},
   "outputs": [
    {
     "data": {
      "text/plain": [
       "{'intent': {'name': 'restaurant_search', 'confidence': 0.6910217515038086},\n",
       " 'entities': [],\n",
       " 'intent_ranking': [{'name': 'restaurant_search',\n",
       "   'confidence': 0.6910217515038086},\n",
       "  {'name': 'goodbye', 'confidence': 0.12916961986851277},\n",
       "  {'name': 'affirm', 'confidence': 0.12023385940214498},\n",
       "  {'name': 'greet', 'confidence': 0.05957476922553348}],\n",
       " 'text': 'I want an African spot to eat'}"
      ]
     },
     "execution_count": 388,
     "metadata": {},
     "output_type": "execute_result"
    }
   ],
   "source": [
    "# Prediction of Intent\n",
    "interpreter.parse(\"I want an African spot to eat\")"
   ]
  },
  {
   "cell_type": "code",
   "execution_count": 389,
   "metadata": {},
   "outputs": [
    {
     "data": {
      "text/plain": [
       "{'intent': {'name': 'restaurant_search', 'confidence': 0.5551966281087347},\n",
       " 'entities': [],\n",
       " 'intent_ranking': [{'name': 'restaurant_search',\n",
       "   'confidence': 0.5551966281087347},\n",
       "  {'name': 'affirm', 'confidence': 0.3185781542065809},\n",
       "  {'name': 'greet', 'confidence': 0.08006124350792775},\n",
       "  {'name': 'goodbye', 'confidence': 0.04616397417675669}],\n",
       " 'text': 'Where is the Chinese restaurant nearby?'}"
      ]
     },
     "execution_count": 389,
     "metadata": {},
     "output_type": "execute_result"
    }
   ],
   "source": [
    "# Prediction of Intent\n",
    "interpreter.parse(\"Where is the Chinese restaurant nearby?\")"
   ]
  },
  {
   "cell_type": "code",
   "execution_count": 390,
   "metadata": {},
   "outputs": [
    {
     "data": {
      "text/plain": [
       "{'intent': {'name': 'greet', 'confidence': 0.4443502542766416},\n",
       " 'entities': [],\n",
       " 'intent_ranking': [{'name': 'greet', 'confidence': 0.4443502542766416},\n",
       "  {'name': 'goodbye', 'confidence': 0.2980426698485828},\n",
       "  {'name': 'affirm', 'confidence': 0.14645128553633435},\n",
       "  {'name': 'restaurant_search', 'confidence': 0.1111557903384414}],\n",
       " 'text': 'Good morning World'}"
      ]
     },
     "execution_count": 390,
     "metadata": {},
     "output_type": "execute_result"
    }
   ],
   "source": [
    "# Prediction of Intent\n",
    "interpreter.parse(\"Good morning World\")"
   ]
  }
 ],
 "metadata": {
  "kernelspec": {
   "display_name": "Python 3",
   "language": "python",
   "name": "python3"
  },
  "language_info": {
   "codemirror_mode": {
    "name": "ipython",
    "version": 3
   },
   "file_extension": ".py",
   "mimetype": "text/x-python",
   "name": "python",
   "nbconvert_exporter": "python",
   "pygments_lexer": "ipython3",
   "version": "3.6.5"
  }
 },
 "nbformat": 4,
 "nbformat_minor": 2
}
