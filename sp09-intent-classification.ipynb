{
 "cells": [
  {
   "cell_type": "code",
   "execution_count": 30,
   "metadata": {},
   "outputs": [],
   "source": [
    "# Load the Packages\n",
    "import spacy\n",
    "from rasa_nlu.training_data import load_data\n",
    "from rasa_nlu.config import RasaNLUModelConfig\n",
    "from rasa_nlu.model import Trainer\n",
    "from rasa_nlu import config"
   ]
  },
  {
   "cell_type": "code",
   "execution_count": 32,
   "metadata": {},
   "outputs": [],
   "source": [
    "# Loading Dataset\n",
    "train_data = load_data('rasa_dataset.json')"
   ]
  },
  {
   "cell_type": "code",
   "execution_count": 33,
   "metadata": {},
   "outputs": [],
   "source": [
    "# Config Backend using Sklearn and Spacy\n",
    "trainer = Trainer(config.load(\"config_spacy.yml\"))"
   ]
  },
  {
   "cell_type": "code",
   "execution_count": 34,
   "metadata": {},
   "outputs": [],
   "source": [
    "nlp = spacy.load('en')"
   ]
  },
  {
   "cell_type": "code",
   "execution_count": 35,
   "metadata": {},
   "outputs": [
    {
     "name": "stdout",
     "output_type": "stream",
     "text": [
      "Fitting 2 folds for each of 6 candidates, totalling 12 fits\n"
     ]
    },
    {
     "name": "stderr",
     "output_type": "stream",
     "text": [
      "[Parallel(n_jobs=1)]: Done  12 out of  12 | elapsed:    0.1s finished\n"
     ]
    },
    {
     "data": {
      "text/plain": [
       "<rasa_nlu.model.Interpreter at 0x1180832b0>"
      ]
     },
     "execution_count": 35,
     "metadata": {},
     "output_type": "execute_result"
    }
   ],
   "source": [
    "# Training Data\n",
    "trainer.train(train_data)"
   ]
  },
  {
   "cell_type": "code",
   "execution_count": 36,
   "metadata": {},
   "outputs": [],
   "source": [
    "# Returns the directory the model is stored in (Create a folder to store model in)\n",
    "model_directory = trainer.persist('data_intent/')\n"
   ]
  },
  {
   "cell_type": "code",
   "execution_count": 37,
   "metadata": {},
   "outputs": [],
   "source": [
    "## Entity Extraction"
   ]
  },
  {
   "cell_type": "code",
   "execution_count": 38,
   "metadata": {},
   "outputs": [],
   "source": [
    "import spacy\n",
    "nlp = spacy.load('en')"
   ]
  },
  {
   "cell_type": "code",
   "execution_count": 39,
   "metadata": {},
   "outputs": [],
   "source": [
    "docx = nlp(u\"I am looking for an Italian Restaurant where I can eat\")"
   ]
  },
  {
   "cell_type": "code",
   "execution_count": 40,
   "metadata": {},
   "outputs": [
    {
     "name": "stdout",
     "output_type": "stream",
     "text": [
      "value Italian entity NORP start 20 end 27\n"
     ]
    }
   ],
   "source": [
    "for word in docx.ents:\n",
    "    print(\"value\",word.text,\"entity\",word.label_,\"start\",word.start_char,\"end\",word.end_char)"
   ]
  },
  {
   "cell_type": "code",
   "execution_count": 41,
   "metadata": {},
   "outputs": [],
   "source": [
    "# Making Predictions with Model\n",
    "#### Interpreter.load().parse()"
   ]
  },
  {
   "cell_type": "code",
   "execution_count": 42,
   "metadata": {},
   "outputs": [],
   "source": [
    "from rasa_nlu.model import Metadata, Interpreter"
   ]
  },
  {
   "cell_type": "code",
   "execution_count": 43,
   "metadata": {},
   "outputs": [],
   "source": [
    "# where model directory points to the folder the model is persisted in\n",
    "interpreter = Interpreter.load(model_directory)"
   ]
  },
  {
   "cell_type": "code",
   "execution_count": 44,
   "metadata": {},
   "outputs": [
    {
     "data": {
      "text/plain": [
       "{'intent': {'name': 'restaurant_search', 'confidence': 0.7179499494754483},\n",
       " 'entities': [],\n",
       " 'intent_ranking': [{'name': 'restaurant_search',\n",
       "   'confidence': 0.7179499494754483},\n",
       "  {'name': 'affirm', 'confidence': 0.1704684709112309},\n",
       "  {'name': 'greet', 'confidence': 0.05880030611224543},\n",
       "  {'name': 'goodbye', 'confidence': 0.052781273501075344}],\n",
       " 'text': 'I am looking for an italian Restaurant where I can eat'}"
      ]
     },
     "execution_count": 44,
     "metadata": {},
     "output_type": "execute_result"
    }
   ],
   "source": [
    "# Prediction of Intent\n",
    "interpreter.parse(u\"I am looking for an italian Restaurant where I can eat\")"
   ]
  },
  {
   "cell_type": "code",
   "execution_count": 24,
   "metadata": {},
   "outputs": [
    {
     "data": {
      "text/plain": [
       "{'intent': {'name': 'restaurant_search', 'confidence': 0.7653570825354704},\n",
       " 'entities': [],\n",
       " 'intent_ranking': [{'name': 'restaurant_search',\n",
       "   'confidence': 0.7653570825354704},\n",
       "  {'name': 'affirm', 'confidence': 0.14656766151180328},\n",
       "  {'name': 'greet', 'confidence': 0.047589155212977054},\n",
       "  {'name': 'goodbye', 'confidence': 0.040486100739749196}],\n",
       " 'text': 'I am looking for an chinese Restaurant where I can eat'}"
      ]
     },
     "execution_count": 24,
     "metadata": {},
     "output_type": "execute_result"
    }
   ],
   "source": [
    "# Prediction of Intent\n",
    "interpreter.parse(\"I am looking for an chinese Restaurant where I can eat\")"
   ]
  },
  {
   "cell_type": "code",
   "execution_count": 25,
   "metadata": {},
   "outputs": [
    {
     "data": {
      "text/plain": [
       "{'intent': {'name': 'restaurant_search', 'confidence': 0.7013424309448658},\n",
       " 'entities': [],\n",
       " 'intent_ranking': [{'name': 'restaurant_search',\n",
       "   'confidence': 0.7013424309448658},\n",
       "  {'name': 'affirm', 'confidence': 0.1221483178630392},\n",
       "  {'name': 'goodbye', 'confidence': 0.11236132989959047},\n",
       "  {'name': 'greet', 'confidence': 0.0641479212925042}],\n",
       " 'text': 'I want an African spot to eat'}"
      ]
     },
     "execution_count": 25,
     "metadata": {},
     "output_type": "execute_result"
    }
   ],
   "source": [
    "# Prediction of Intent\n",
    "interpreter.parse(\"I want an African spot to eat\")"
   ]
  },
  {
   "cell_type": "code",
   "execution_count": 45,
   "metadata": {},
   "outputs": [
    {
     "data": {
      "text/plain": [
       "{'intent': {'name': 'restaurant_search', 'confidence': 0.7807143662161944},\n",
       " 'entities': [{'start': 8,\n",
       "   'end': 15,\n",
       "   'value': 'chinese',\n",
       "   'entity': 'cuisine',\n",
       "   'confidence': 0.8575021269010219,\n",
       "   'extractor': 'ner_crf',\n",
       "   'processors': ['ner_synonyms']}],\n",
       " 'intent_ranking': [{'name': 'restaurant_search',\n",
       "   'confidence': 0.7807143662161944},\n",
       "  {'name': 'affirm', 'confidence': 0.10107198364936093},\n",
       "  {'name': 'greet', 'confidence': 0.07308717285732796},\n",
       "  {'name': 'goodbye', 'confidence': 0.04512647727711652}],\n",
       " 'text': 'show me chinese restaurants'}"
      ]
     },
     "execution_count": 45,
     "metadata": {},
     "output_type": "execute_result"
    }
   ],
   "source": [
    "# Prediction of Intent\n",
    "interpreter.parse(\"show me chinese restaurants\")"
   ]
  },
  {
   "cell_type": "code",
   "execution_count": 46,
   "metadata": {},
   "outputs": [
    {
     "data": {
      "text/plain": [
       "{'intent': {'name': 'greet', 'confidence': 0.4831878971312701},\n",
       " 'entities': [],\n",
       " 'intent_ranking': [{'name': 'greet', 'confidence': 0.4831878971312701},\n",
       "  {'name': 'goodbye', 'confidence': 0.26808935209670764},\n",
       "  {'name': 'restaurant_search', 'confidence': 0.1297142888480815},\n",
       "  {'name': 'affirm', 'confidence': 0.11900846192394073}],\n",
       " 'text': 'Good morning World'}"
      ]
     },
     "execution_count": 46,
     "metadata": {},
     "output_type": "execute_result"
    }
   ],
   "source": [
    "# Prediction of Intent\n",
    "interpreter.parse(\"Good morning World\")"
   ]
  },
  {
   "cell_type": "code",
   "execution_count": null,
   "metadata": {},
   "outputs": [],
   "source": []
  },
  {
   "cell_type": "code",
   "execution_count": null,
   "metadata": {},
   "outputs": [],
   "source": []
  },
  {
   "cell_type": "code",
   "execution_count": null,
   "metadata": {},
   "outputs": [],
   "source": []
  }
 ],
 "metadata": {
  "kernelspec": {
   "display_name": "Python 3",
   "language": "python",
   "name": "python3"
  },
  "language_info": {
   "codemirror_mode": {
    "name": "ipython",
    "version": 3
   },
   "file_extension": ".py",
   "mimetype": "text/x-python",
   "name": "python",
   "nbconvert_exporter": "python",
   "pygments_lexer": "ipython3",
   "version": "3.6.5"
  }
 },
 "nbformat": 4,
 "nbformat_minor": 2
}
