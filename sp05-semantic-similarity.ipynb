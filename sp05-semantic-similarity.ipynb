{
 "cells": [
  {
   "cell_type": "code",
   "execution_count": 1,
   "metadata": {},
   "outputs": [],
   "source": [
    "# Semantic Similarity\n",
    "#### For recommendation system\n",
    "#### Data preprocessing and removing duplicates"
   ]
  },
  {
   "cell_type": "code",
   "execution_count": 2,
   "metadata": {},
   "outputs": [],
   "source": [
    "import spacy\n",
    "nlp = spacy.load('en')"
   ]
  },
  {
   "cell_type": "code",
   "execution_count": 6,
   "metadata": {},
   "outputs": [],
   "source": [
    "d1 = nlp(\"wolf\")\n",
    "d2 = nlp(\"dog\")\n",
    "d3 = nlp(\"sheep\")\n",
    "d4 = nlp(\"fox\")\n",
    "d5 = nlp(\"cat\")"
   ]
  },
  {
   "cell_type": "code",
   "execution_count": 7,
   "metadata": {},
   "outputs": [
    {
     "data": {
      "text/plain": [
       "0.6759107766441167"
      ]
     },
     "execution_count": 7,
     "metadata": {},
     "output_type": "execute_result"
    }
   ],
   "source": [
    "d1.similarity(d2)"
   ]
  },
  {
   "cell_type": "code",
   "execution_count": 8,
   "metadata": {},
   "outputs": [
    {
     "data": {
      "text/plain": [
       "0.5568840165342445"
      ]
     },
     "execution_count": 8,
     "metadata": {},
     "output_type": "execute_result"
    }
   ],
   "source": [
    "d1.similarity(d4)"
   ]
  },
  {
   "cell_type": "code",
   "execution_count": 9,
   "metadata": {},
   "outputs": [
    {
     "data": {
      "text/plain": [
       "0.7344887261266053"
      ]
     },
     "execution_count": 9,
     "metadata": {},
     "output_type": "execute_result"
    }
   ],
   "source": [
    "d5.similarity(d2)"
   ]
  },
  {
   "cell_type": "code",
   "execution_count": 10,
   "metadata": {},
   "outputs": [],
   "source": [
    "# Synonyms\n",
    "d6 = nlp(\"smart\")\n",
    "d7 = nlp(\"clever\")"
   ]
  },
  {
   "cell_type": "code",
   "execution_count": 11,
   "metadata": {},
   "outputs": [
    {
     "data": {
      "text/plain": [
       "0.805182567691138"
      ]
     },
     "execution_count": 11,
     "metadata": {},
     "output_type": "execute_result"
    }
   ],
   "source": [
    "d6.similarity(d7)"
   ]
  },
  {
   "cell_type": "code",
   "execution_count": 12,
   "metadata": {},
   "outputs": [],
   "source": [
    "d = nlp(\"wolf dog sheep fox cat\")"
   ]
  },
  {
   "cell_type": "code",
   "execution_count": 14,
   "metadata": {},
   "outputs": [
    {
     "name": "stdout",
     "output_type": "stream",
     "text": [
      "('wolf', 'wolf') Similarity => 1.0\n",
      "('wolf', 'dog') Similarity => 0.5007198\n",
      "('wolf', 'sheep') Similarity => 0.2137488\n",
      "('wolf', 'fox') Similarity => 0.34195685\n",
      "('wolf', 'cat') Similarity => 0.04639692\n",
      "('dog', 'wolf') Similarity => 0.5007198\n",
      "('dog', 'dog') Similarity => 1.0\n",
      "('dog', 'sheep') Similarity => 0.4158459\n",
      "('dog', 'fox') Similarity => 0.4855924\n",
      "('dog', 'cat') Similarity => 0.41966495\n",
      "('sheep', 'wolf') Similarity => 0.2137488\n",
      "('sheep', 'dog') Similarity => 0.4158459\n",
      "('sheep', 'sheep') Similarity => 1.0\n",
      "('sheep', 'fox') Similarity => 0.35053626\n",
      "('sheep', 'cat') Similarity => 0.37231827\n",
      "('fox', 'wolf') Similarity => 0.34195685\n",
      "('fox', 'dog') Similarity => 0.4855924\n",
      "('fox', 'sheep') Similarity => 0.35053626\n",
      "('fox', 'fox') Similarity => 1.0\n",
      "('fox', 'cat') Similarity => 0.40671986\n",
      "('cat', 'wolf') Similarity => 0.04639692\n",
      "('cat', 'dog') Similarity => 0.41966495\n",
      "('cat', 'sheep') Similarity => 0.37231827\n",
      "('cat', 'fox') Similarity => 0.40671986\n",
      "('cat', 'cat') Similarity => 1.0\n"
     ]
    }
   ],
   "source": [
    "for token1 in d:\n",
    "    for token2 in d:\n",
    "        print((token1.text,token2.text),\"Similarity =>\",token1.similarity(token2))"
   ]
  },
  {
   "cell_type": "code",
   "execution_count": 18,
   "metadata": {},
   "outputs": [],
   "source": [
    "mylist = [(token1.text,token2.text,token1.similarity(token2)) for token2 in d for token1 in d]"
   ]
  },
  {
   "cell_type": "code",
   "execution_count": 19,
   "metadata": {},
   "outputs": [
    {
     "data": {
      "text/plain": [
       "[('wolf', 'wolf', 1.0),\n",
       " ('dog', 'wolf', 0.5007198),\n",
       " ('sheep', 'wolf', 0.2137488),\n",
       " ('fox', 'wolf', 0.34195685),\n",
       " ('cat', 'wolf', 0.04639692),\n",
       " ('wolf', 'dog', 0.5007198),\n",
       " ('dog', 'dog', 1.0),\n",
       " ('sheep', 'dog', 0.4158459),\n",
       " ('fox', 'dog', 0.4855924),\n",
       " ('cat', 'dog', 0.41966495),\n",
       " ('wolf', 'sheep', 0.2137488),\n",
       " ('dog', 'sheep', 0.4158459),\n",
       " ('sheep', 'sheep', 1.0),\n",
       " ('fox', 'sheep', 0.35053626),\n",
       " ('cat', 'sheep', 0.37231827),\n",
       " ('wolf', 'fox', 0.34195685),\n",
       " ('dog', 'fox', 0.4855924),\n",
       " ('sheep', 'fox', 0.35053626),\n",
       " ('fox', 'fox', 1.0),\n",
       " ('cat', 'fox', 0.40671986),\n",
       " ('wolf', 'cat', 0.04639692),\n",
       " ('dog', 'cat', 0.41966495),\n",
       " ('sheep', 'cat', 0.37231827),\n",
       " ('fox', 'cat', 0.40671986),\n",
       " ('cat', 'cat', 1.0)]"
      ]
     },
     "execution_count": 19,
     "metadata": {},
     "output_type": "execute_result"
    }
   ],
   "source": [
    "mylist"
   ]
  },
  {
   "cell_type": "code",
   "execution_count": 20,
   "metadata": {},
   "outputs": [],
   "source": [
    "import pandas as pd"
   ]
  },
  {
   "cell_type": "code",
   "execution_count": 21,
   "metadata": {},
   "outputs": [],
   "source": [
    "df = pd.DataFrame(mylist)"
   ]
  },
  {
   "cell_type": "code",
   "execution_count": 22,
   "metadata": {},
   "outputs": [
    {
     "data": {
      "text/html": [
       "<div>\n",
       "<style scoped>\n",
       "    .dataframe tbody tr th:only-of-type {\n",
       "        vertical-align: middle;\n",
       "    }\n",
       "\n",
       "    .dataframe tbody tr th {\n",
       "        vertical-align: top;\n",
       "    }\n",
       "\n",
       "    .dataframe thead th {\n",
       "        text-align: right;\n",
       "    }\n",
       "</style>\n",
       "<table border=\"1\" class=\"dataframe\">\n",
       "  <thead>\n",
       "    <tr style=\"text-align: right;\">\n",
       "      <th></th>\n",
       "      <th>0</th>\n",
       "      <th>1</th>\n",
       "      <th>2</th>\n",
       "    </tr>\n",
       "  </thead>\n",
       "  <tbody>\n",
       "    <tr>\n",
       "      <th>0</th>\n",
       "      <td>wolf</td>\n",
       "      <td>wolf</td>\n",
       "      <td>1.000000</td>\n",
       "    </tr>\n",
       "    <tr>\n",
       "      <th>1</th>\n",
       "      <td>dog</td>\n",
       "      <td>wolf</td>\n",
       "      <td>0.500720</td>\n",
       "    </tr>\n",
       "    <tr>\n",
       "      <th>2</th>\n",
       "      <td>sheep</td>\n",
       "      <td>wolf</td>\n",
       "      <td>0.213749</td>\n",
       "    </tr>\n",
       "    <tr>\n",
       "      <th>3</th>\n",
       "      <td>fox</td>\n",
       "      <td>wolf</td>\n",
       "      <td>0.341957</td>\n",
       "    </tr>\n",
       "    <tr>\n",
       "      <th>4</th>\n",
       "      <td>cat</td>\n",
       "      <td>wolf</td>\n",
       "      <td>0.046397</td>\n",
       "    </tr>\n",
       "  </tbody>\n",
       "</table>\n",
       "</div>"
      ],
      "text/plain": [
       "       0     1         2\n",
       "0   wolf  wolf  1.000000\n",
       "1    dog  wolf  0.500720\n",
       "2  sheep  wolf  0.213749\n",
       "3    fox  wolf  0.341957\n",
       "4    cat  wolf  0.046397"
      ]
     },
     "execution_count": 22,
     "metadata": {},
     "output_type": "execute_result"
    }
   ],
   "source": [
    "df.head()"
   ]
  },
  {
   "cell_type": "code",
   "execution_count": 23,
   "metadata": {},
   "outputs": [
    {
     "data": {
      "text/html": [
       "<div>\n",
       "<style scoped>\n",
       "    .dataframe tbody tr th:only-of-type {\n",
       "        vertical-align: middle;\n",
       "    }\n",
       "\n",
       "    .dataframe tbody tr th {\n",
       "        vertical-align: top;\n",
       "    }\n",
       "\n",
       "    .dataframe thead th {\n",
       "        text-align: right;\n",
       "    }\n",
       "</style>\n",
       "<table border=\"1\" class=\"dataframe\">\n",
       "  <thead>\n",
       "    <tr style=\"text-align: right;\">\n",
       "      <th></th>\n",
       "      <th>2</th>\n",
       "    </tr>\n",
       "  </thead>\n",
       "  <tbody>\n",
       "    <tr>\n",
       "      <th>2</th>\n",
       "      <td>1.0</td>\n",
       "    </tr>\n",
       "  </tbody>\n",
       "</table>\n",
       "</div>"
      ],
      "text/plain": [
       "     2\n",
       "2  1.0"
      ]
     },
     "execution_count": 23,
     "metadata": {},
     "output_type": "execute_result"
    }
   ],
   "source": [
    "df.corr()"
   ]
  },
  {
   "cell_type": "code",
   "execution_count": 24,
   "metadata": {},
   "outputs": [
    {
     "data": {
      "text/plain": [
       "RangeIndex(start=0, stop=3, step=1)"
      ]
     },
     "execution_count": 24,
     "metadata": {},
     "output_type": "execute_result"
    }
   ],
   "source": [
    "df.columns"
   ]
  },
  {
   "cell_type": "code",
   "execution_count": 25,
   "metadata": {},
   "outputs": [],
   "source": [
    "df.columns = [\"Token1\", \"Token2\", \"Similarity\"]"
   ]
  },
  {
   "cell_type": "code",
   "execution_count": 26,
   "metadata": {},
   "outputs": [
    {
     "data": {
      "text/html": [
       "<div>\n",
       "<style scoped>\n",
       "    .dataframe tbody tr th:only-of-type {\n",
       "        vertical-align: middle;\n",
       "    }\n",
       "\n",
       "    .dataframe tbody tr th {\n",
       "        vertical-align: top;\n",
       "    }\n",
       "\n",
       "    .dataframe thead th {\n",
       "        text-align: right;\n",
       "    }\n",
       "</style>\n",
       "<table border=\"1\" class=\"dataframe\">\n",
       "  <thead>\n",
       "    <tr style=\"text-align: right;\">\n",
       "      <th></th>\n",
       "      <th>Token1</th>\n",
       "      <th>Token2</th>\n",
       "      <th>Similarity</th>\n",
       "    </tr>\n",
       "  </thead>\n",
       "  <tbody>\n",
       "    <tr>\n",
       "      <th>0</th>\n",
       "      <td>wolf</td>\n",
       "      <td>wolf</td>\n",
       "      <td>1.000000</td>\n",
       "    </tr>\n",
       "    <tr>\n",
       "      <th>1</th>\n",
       "      <td>dog</td>\n",
       "      <td>wolf</td>\n",
       "      <td>0.500720</td>\n",
       "    </tr>\n",
       "    <tr>\n",
       "      <th>2</th>\n",
       "      <td>sheep</td>\n",
       "      <td>wolf</td>\n",
       "      <td>0.213749</td>\n",
       "    </tr>\n",
       "    <tr>\n",
       "      <th>3</th>\n",
       "      <td>fox</td>\n",
       "      <td>wolf</td>\n",
       "      <td>0.341957</td>\n",
       "    </tr>\n",
       "    <tr>\n",
       "      <th>4</th>\n",
       "      <td>cat</td>\n",
       "      <td>wolf</td>\n",
       "      <td>0.046397</td>\n",
       "    </tr>\n",
       "    <tr>\n",
       "      <th>5</th>\n",
       "      <td>wolf</td>\n",
       "      <td>dog</td>\n",
       "      <td>0.500720</td>\n",
       "    </tr>\n",
       "    <tr>\n",
       "      <th>6</th>\n",
       "      <td>dog</td>\n",
       "      <td>dog</td>\n",
       "      <td>1.000000</td>\n",
       "    </tr>\n",
       "    <tr>\n",
       "      <th>7</th>\n",
       "      <td>sheep</td>\n",
       "      <td>dog</td>\n",
       "      <td>0.415846</td>\n",
       "    </tr>\n",
       "    <tr>\n",
       "      <th>8</th>\n",
       "      <td>fox</td>\n",
       "      <td>dog</td>\n",
       "      <td>0.485592</td>\n",
       "    </tr>\n",
       "    <tr>\n",
       "      <th>9</th>\n",
       "      <td>cat</td>\n",
       "      <td>dog</td>\n",
       "      <td>0.419665</td>\n",
       "    </tr>\n",
       "    <tr>\n",
       "      <th>10</th>\n",
       "      <td>wolf</td>\n",
       "      <td>sheep</td>\n",
       "      <td>0.213749</td>\n",
       "    </tr>\n",
       "    <tr>\n",
       "      <th>11</th>\n",
       "      <td>dog</td>\n",
       "      <td>sheep</td>\n",
       "      <td>0.415846</td>\n",
       "    </tr>\n",
       "    <tr>\n",
       "      <th>12</th>\n",
       "      <td>sheep</td>\n",
       "      <td>sheep</td>\n",
       "      <td>1.000000</td>\n",
       "    </tr>\n",
       "    <tr>\n",
       "      <th>13</th>\n",
       "      <td>fox</td>\n",
       "      <td>sheep</td>\n",
       "      <td>0.350536</td>\n",
       "    </tr>\n",
       "    <tr>\n",
       "      <th>14</th>\n",
       "      <td>cat</td>\n",
       "      <td>sheep</td>\n",
       "      <td>0.372318</td>\n",
       "    </tr>\n",
       "    <tr>\n",
       "      <th>15</th>\n",
       "      <td>wolf</td>\n",
       "      <td>fox</td>\n",
       "      <td>0.341957</td>\n",
       "    </tr>\n",
       "    <tr>\n",
       "      <th>16</th>\n",
       "      <td>dog</td>\n",
       "      <td>fox</td>\n",
       "      <td>0.485592</td>\n",
       "    </tr>\n",
       "    <tr>\n",
       "      <th>17</th>\n",
       "      <td>sheep</td>\n",
       "      <td>fox</td>\n",
       "      <td>0.350536</td>\n",
       "    </tr>\n",
       "    <tr>\n",
       "      <th>18</th>\n",
       "      <td>fox</td>\n",
       "      <td>fox</td>\n",
       "      <td>1.000000</td>\n",
       "    </tr>\n",
       "    <tr>\n",
       "      <th>19</th>\n",
       "      <td>cat</td>\n",
       "      <td>fox</td>\n",
       "      <td>0.406720</td>\n",
       "    </tr>\n",
       "    <tr>\n",
       "      <th>20</th>\n",
       "      <td>wolf</td>\n",
       "      <td>cat</td>\n",
       "      <td>0.046397</td>\n",
       "    </tr>\n",
       "    <tr>\n",
       "      <th>21</th>\n",
       "      <td>dog</td>\n",
       "      <td>cat</td>\n",
       "      <td>0.419665</td>\n",
       "    </tr>\n",
       "    <tr>\n",
       "      <th>22</th>\n",
       "      <td>sheep</td>\n",
       "      <td>cat</td>\n",
       "      <td>0.372318</td>\n",
       "    </tr>\n",
       "    <tr>\n",
       "      <th>23</th>\n",
       "      <td>fox</td>\n",
       "      <td>cat</td>\n",
       "      <td>0.406720</td>\n",
       "    </tr>\n",
       "    <tr>\n",
       "      <th>24</th>\n",
       "      <td>cat</td>\n",
       "      <td>cat</td>\n",
       "      <td>1.000000</td>\n",
       "    </tr>\n",
       "  </tbody>\n",
       "</table>\n",
       "</div>"
      ],
      "text/plain": [
       "   Token1 Token2  Similarity\n",
       "0    wolf   wolf    1.000000\n",
       "1     dog   wolf    0.500720\n",
       "2   sheep   wolf    0.213749\n",
       "3     fox   wolf    0.341957\n",
       "4     cat   wolf    0.046397\n",
       "5    wolf    dog    0.500720\n",
       "6     dog    dog    1.000000\n",
       "7   sheep    dog    0.415846\n",
       "8     fox    dog    0.485592\n",
       "9     cat    dog    0.419665\n",
       "10   wolf  sheep    0.213749\n",
       "11    dog  sheep    0.415846\n",
       "12  sheep  sheep    1.000000\n",
       "13    fox  sheep    0.350536\n",
       "14    cat  sheep    0.372318\n",
       "15   wolf    fox    0.341957\n",
       "16    dog    fox    0.485592\n",
       "17  sheep    fox    0.350536\n",
       "18    fox    fox    1.000000\n",
       "19    cat    fox    0.406720\n",
       "20   wolf    cat    0.046397\n",
       "21    dog    cat    0.419665\n",
       "22  sheep    cat    0.372318\n",
       "23    fox    cat    0.406720\n",
       "24    cat    cat    1.000000"
      ]
     },
     "execution_count": 26,
     "metadata": {},
     "output_type": "execute_result"
    }
   ],
   "source": [
    "df"
   ]
  },
  {
   "cell_type": "code",
   "execution_count": 27,
   "metadata": {},
   "outputs": [],
   "source": [
    "df_viz = df.replace({'wolf':0,'dog':1,'sheep':2,'fox':3,'cat':4})"
   ]
  },
  {
   "cell_type": "code",
   "execution_count": 28,
   "metadata": {},
   "outputs": [],
   "source": [
    "import matplotlib.pyplot as plt\n",
    "import seaborn as sns\n",
    "%matplotlib inline"
   ]
  },
  {
   "cell_type": "code",
   "execution_count": 29,
   "metadata": {},
   "outputs": [
    {
     "data": {
      "image/png": "[encoded data removed]",
      "text/plain": [
       "<matplotlib.figure.Figure at 0x1a260f5cf8>"
      ]
     },
     "metadata": {},
     "output_type": "display_data"
    }
   ],
   "source": [
    "plt.figure(figsize=(20,10))\n",
    "sns.heatmap(df_viz.corr(),annot=True)\n",
    "plt.show()"
   ]
  },
  {
   "cell_type": "code",
   "execution_count": null,
   "metadata": {},
   "outputs": [],
   "source": []
  }
 ],
 "metadata": {
  "kernelspec": {
   "display_name": "Python 3",
   "language": "python",
   "name": "python3"
  },
  "language_info": {
   "codemirror_mode": {
    "name": "ipython",
    "version": 3
   },
   "file_extension": ".py",
   "mimetype": "text/x-python",
   "name": "python",
   "nbconvert_exporter": "python",
   "pygments_lexer": "ipython3",
   "version": "3.6.5"
  }
 },
 "nbformat": 4,
 "nbformat_minor": 2
}
