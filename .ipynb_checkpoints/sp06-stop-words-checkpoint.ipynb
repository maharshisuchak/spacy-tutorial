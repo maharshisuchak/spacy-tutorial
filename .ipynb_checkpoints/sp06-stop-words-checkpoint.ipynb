{
 "cells": [
  {
   "cell_type": "code",
   "execution_count": 73,
   "metadata": {},
   "outputs": [],
   "source": [
    "import spacy\n",
    "nlp = spacy.load('en')"
   ]
  },
  {
   "cell_type": "code",
   "execution_count": 74,
   "metadata": {},
   "outputs": [],
   "source": [
    "from spacy.lang.en.stop_words import STOP_WORDS"
   ]
  },
  {
   "cell_type": "code",
   "execution_count": 75,
   "metadata": {},
   "outputs": [
    {
     "name": "stdout",
     "output_type": "stream",
     "text": [
      "{'beside', 'elsewhere', 'take', 'whole', 'from', 'around', 'between', 'then', 'becoming', 'besides', 'due', 'how', 'nobody', 'serious', 'since', 'someone', 'most', 'there', 'three', 'thus', 'yet', 'while', 'everyone', 'yours', 'any', 'done', 'more', 'used', 'were', 'whereupon', 'already', 'various', 'after', 'fifty', 'nor', 'such', 'across', 'all', 'before', 'two', 'might', 'with', 'hereby', 'does', 'please', 'seemed', 'indeed', 'out', 'thereby', 'who', 'former', 'anywhere', 'himself', 'thence', 'could', 'name', 'its', 'except', 'ever', 'rather', 'once', 'noone', 'same', 'throughout', 'thru', 'too', 'move', 'back', 'below', 'through', 'hence', 'beyond', 'sixty', 'for', 'whether', 'empty', 'i', 'whither', 'much', 'that', 'call', 'onto', 'really', 'itself', 'forty', 'every', 'hers', 'show', 'whence', 'twelve', 'though', 'hereupon', 'latterly', 'sometime', 'against', 'she', 'anyone', 'first', 'may', 'often', 'cannot', 'see', 'seem', 're', 'nine', 'other', 'side', 'full', 'meanwhile', 'never', 'to', 'under', 'upon', 'give', 'not', 'four', 'somewhere', 'whatever', 'whereas', 'an', 'because', 'keep', 'again', 'on', 'his', 'some', 'nowhere', 'by', 'did', 'herein', 'afterwards', 'sometimes', 'whenever', 'would', 'yourself', 'been', 'five', 'amount', 'of', 'still', 'formerly', 'along', 'just', 'no', 'themselves', 'should', 'top', 'somehow', 'neither', 'others', 'together', 'wherever', 'than', 'very', 'down', 'myself', 'regarding', 'whoever', 'until', 'without', 'few', 'make', 'beforehand', 'behind', 'these', 'everywhere', 'which', 'became', 'herself', 'seems', 'well', 'although', 'ten', 'as', 'or', 'if', 'ours', 'during', 'go', 'into', 'at', 'own', 'my', 'thereafter', 'they', 'where', 'being', 'eight', 'least', 'last', 'none', 'this', 'almost', 'enough', 'always', 'next', 'nothing', 'front', 'becomes', 'perhaps', 'quite', 'so', 'alone', 'thereupon', 'ca', 'up', 'nevertheless', 'unless', 'using', 'is', 'say', 'six', 'get', 'had', 'it', 'therefore', 'third', 'towards', 'moreover', 'when', 'was', 'within', 'part', 'each', 'do', 'hereafter', 'have', 'mine', 'made', 'whose', 'about', 'over', 'am', 'but', 'among', 'eleven', 'fifteen', 'twenty', 'everything', 'further', 'wherein', 'only', 'either', 'you', 'one', 'hundred', 'whom', 'has', 'latter', 'those', 'another', 'something', 'will', 'we', 'here', 'our', 'via', 'what', 'even', 'mostly', 'the', 'put', 'ourselves', 'us', 'bottom', 'be', 'also', 'can', 'he', 'must', 'therein', 'whereby', 'otherwise', 'several', 'me', 'many', 'him', 'their', 'why', 'toward', 'per', 'seeming', 'namely', 'amongst', 'her', 'above', 'anyhow', 'anything', 'else', 'and', 'are', 'less', 'your', 'anyway', 'a', 'yourselves', 'doing', 'off', 'them', 'whereafter'}\n"
     ]
    }
   ],
   "source": [
    "print(STOP_WORDS)"
   ]
  },
  {
   "cell_type": "code",
   "execution_count": 76,
   "metadata": {},
   "outputs": [
    {
     "data": {
      "text/plain": [
       "300"
      ]
     },
     "execution_count": 76,
     "metadata": {},
     "output_type": "execute_result"
    }
   ],
   "source": [
    "len(STOP_WORDS)"
   ]
  },
  {
   "cell_type": "code",
   "execution_count": 77,
   "metadata": {},
   "outputs": [
    {
     "data": {
      "text/plain": [
       "True"
      ]
     },
     "execution_count": 77,
     "metadata": {},
     "output_type": "execute_result"
    }
   ],
   "source": [
    "nlp.vocab[\"the\"].is_stop"
   ]
  },
  {
   "cell_type": "code",
   "execution_count": 78,
   "metadata": {},
   "outputs": [
    {
     "data": {
      "text/plain": [
       "False"
      ]
     },
     "execution_count": 78,
     "metadata": {},
     "output_type": "execute_result"
    }
   ],
   "source": [
    "nlp.vocab[\"Maharshi\"].is_stop"
   ]
  },
  {
   "cell_type": "code",
   "execution_count": 79,
   "metadata": {},
   "outputs": [],
   "source": [
    "mysentence = nlp(u\"More recently, sensor technology and real-time data collection have produced bumper crops of employee information for companies. Now managers can access second-by-second feedback on what a worker is doing and, to some extent, what a worker is feeling.\")"
   ]
  },
  {
   "cell_type": "code",
   "execution_count": 80,
   "metadata": {},
   "outputs": [
    {
     "name": "stdout",
     "output_type": "stream",
     "text": [
      "and\n",
      "have\n",
      "of\n",
      "for\n",
      "can\n",
      "by\n",
      "on\n",
      "what\n",
      "a\n",
      "is\n",
      "doing\n",
      "and\n",
      "to\n",
      "some\n",
      "what\n",
      "a\n",
      "is\n"
     ]
    }
   ],
   "source": [
    "for word in mysentence:\n",
    "    if word.is_stop == True:\n",
    "        print(word)"
   ]
  },
  {
   "cell_type": "code",
   "execution_count": 81,
   "metadata": {},
   "outputs": [
    {
     "name": "stdout",
     "output_type": "stream",
     "text": [
      "More\n",
      "recently\n",
      ",\n",
      "sensor\n",
      "technology\n",
      "real\n",
      "-\n",
      "time\n",
      "data\n",
      "collection\n",
      "produced\n",
      "bumper\n",
      "crops\n",
      "employee\n",
      "information\n",
      "companies\n",
      ".\n",
      "Now\n",
      "managers\n",
      "access\n",
      "second\n",
      "-\n",
      "-\n",
      "second\n",
      "feedback\n",
      "worker\n",
      ",\n",
      "extent\n",
      ",\n",
      "worker\n",
      "feeling\n",
      ".\n"
     ]
    }
   ],
   "source": [
    "# Filtering Stop Words\n",
    "for word in mysentence:\n",
    "    if word.is_stop == False:\n",
    "        print(word)"
   ]
  },
  {
   "cell_type": "code",
   "execution_count": 82,
   "metadata": {},
   "outputs": [
    {
     "data": {
      "text/plain": [
       "[More,\n",
       " recently,\n",
       " sensor,\n",
       " technology,\n",
       " real,\n",
       " time,\n",
       " data,\n",
       " collection,\n",
       " produced,\n",
       " bumper,\n",
       " crops,\n",
       " employee,\n",
       " information,\n",
       " companies,\n",
       " Now,\n",
       " managers,\n",
       " access,\n",
       " second,\n",
       " second,\n",
       " feedback,\n",
       " worker,\n",
       " extent,\n",
       " worker,\n",
       " feeling]"
      ]
     },
     "execution_count": 82,
     "metadata": {},
     "output_type": "execute_result"
    }
   ],
   "source": [
    "[ word for word in mysentence if word.is_stop == False and word.is_punct == False ]"
   ]
  },
  {
   "cell_type": "markdown",
   "metadata": {},
   "source": [
    "### Adding your own stop words"
   ]
  },
  {
   "cell_type": "code",
   "execution_count": 83,
   "metadata": {},
   "outputs": [],
   "source": [
    "STOP_WORDS.add(\"now\")"
   ]
  },
  {
   "cell_type": "code",
   "execution_count": 84,
   "metadata": {},
   "outputs": [
    {
     "data": {
      "text/plain": [
       "True"
      ]
     },
     "execution_count": 84,
     "metadata": {},
     "output_type": "execute_result"
    }
   ],
   "source": [
    "nlp.vocab[\"now\"].is_stop"
   ]
  },
  {
   "cell_type": "code",
   "execution_count": 85,
   "metadata": {},
   "outputs": [],
   "source": [
    "mysentence = nlp(u\"More recently, sensor technology and real-time data collection have produced bumper crops of employee information for companies. now managers can access second-by-second feedback on what a worker is doing and, to some extent, what a worker is feeling.\")"
   ]
  },
  {
   "cell_type": "code",
   "execution_count": 86,
   "metadata": {},
   "outputs": [
    {
     "name": "stdout",
     "output_type": "stream",
     "text": [
      "and\n",
      "have\n",
      "of\n",
      "for\n",
      "now\n",
      "can\n",
      "by\n",
      "on\n",
      "what\n",
      "a\n",
      "is\n",
      "doing\n",
      "and\n",
      "to\n",
      "some\n",
      "what\n",
      "a\n",
      "is\n"
     ]
    }
   ],
   "source": [
    "for word in mysentence:\n",
    "    if word.is_stop == True:\n",
    "        print(word)"
   ]
  },
  {
   "cell_type": "code",
   "execution_count": 92,
   "metadata": {},
   "outputs": [],
   "source": [
    "STOP_WORDS.remove(\"now\")"
   ]
  },
  {
   "cell_type": "code",
   "execution_count": 94,
   "metadata": {},
   "outputs": [
    {
     "data": {
      "text/plain": [
       "True"
      ]
     },
     "execution_count": 94,
     "metadata": {},
     "output_type": "execute_result"
    }
   ],
   "source": [
    "nlp.vocab[\"now\"].is_stop"
   ]
  },
  {
   "cell_type": "code",
   "execution_count": null,
   "metadata": {},
   "outputs": [],
   "source": []
  },
  {
   "cell_type": "code",
   "execution_count": null,
   "metadata": {},
   "outputs": [],
   "source": []
  }
 ],
 "metadata": {
  "kernelspec": {
   "display_name": "Python 3",
   "language": "python",
   "name": "python3"
  },
  "language_info": {
   "codemirror_mode": {
    "name": "ipython",
    "version": 3
   },
   "file_extension": ".py",
   "mimetype": "text/x-python",
   "name": "python",
   "nbconvert_exporter": "python",
   "pygments_lexer": "ipython3",
   "version": "3.6.5"
  }
 },
 "nbformat": 4,
 "nbformat_minor": 2
}
