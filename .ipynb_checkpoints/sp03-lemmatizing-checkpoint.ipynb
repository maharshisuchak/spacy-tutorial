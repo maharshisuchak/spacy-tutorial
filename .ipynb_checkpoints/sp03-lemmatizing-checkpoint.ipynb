{
 "cells": [
  {
   "cell_type": "markdown",
   "metadata": {},
   "source": [
    "### Text Normalization  and Word Inflection\n",
    "+ Word inflection == syntactic differences between word forms \n",
    "+ Reducing a word to its base/root form\n",
    "+ Lemmatization **\n",
    "- - a word based on its intended meaning\n",
    "+ Stemming \n",
    "- - Cutting of the prefixes/suffices to reduce a word to base form\n",
    "+ Word Shape Analysis"
   ]
  },
  {
   "cell_type": "code",
   "execution_count": 2,
   "metadata": {},
   "outputs": [],
   "source": [
    "import spacy\n",
    "nlp = spacy.load('en')"
   ]
  },
  {
   "cell_type": "code",
   "execution_count": 3,
   "metadata": {},
   "outputs": [],
   "source": [
    "docx = nlp(\"He was studying the study by Archemedies on the studious student always studying botany\")"
   ]
  },
  {
   "cell_type": "code",
   "execution_count": 4,
   "metadata": {},
   "outputs": [
    {
     "name": "stdout",
     "output_type": "stream",
     "text": [
      "He -PRON- PRON\n",
      "was be VERB\n",
      "studying study VERB\n",
      "the the DET\n",
      "study study NOUN\n",
      "by by ADP\n",
      "Archemedies archemedies PROPN\n",
      "on on ADP\n",
      "the the DET\n",
      "studious studious ADJ\n",
      "student student NOUN\n",
      "always always ADV\n",
      "studying study VERB\n",
      "botany botany ADV\n"
     ]
    }
   ],
   "source": [
    "for word in docx:\n",
    "    print(word.text,word.lemma_,word.pos_)"
   ]
  },
  {
   "cell_type": "code",
   "execution_count": null,
   "metadata": {},
   "outputs": [],
   "source": []
  }
 ],
 "metadata": {
  "kernelspec": {
   "display_name": "Python 3",
   "language": "python",
   "name": "python3"
  },
  "language_info": {
   "codemirror_mode": {
    "name": "ipython",
    "version": 3
   },
   "file_extension": ".py",
   "mimetype": "text/x-python",
   "name": "python",
   "nbconvert_exporter": "python",
   "pygments_lexer": "ipython3",
   "version": "3.6.5"
  }
 },
 "nbformat": 4,
 "nbformat_minor": 2
}
