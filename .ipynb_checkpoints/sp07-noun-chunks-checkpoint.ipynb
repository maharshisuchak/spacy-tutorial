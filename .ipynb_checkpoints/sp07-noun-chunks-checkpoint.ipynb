{
 "cells": [
  {
   "cell_type": "markdown",
   "metadata": {},
   "source": [
    "### Noun Chunks\n",
    "##### Noun + word describing the noun\n",
    "##### Noun phrases\n",
    "##### adnominal\n",
    "##### root.text"
   ]
  },
  {
   "cell_type": "code",
   "execution_count": 1,
   "metadata": {},
   "outputs": [],
   "source": [
    "import spacy\n",
    "nlp = spacy.load('en')"
   ]
  },
  {
   "cell_type": "code",
   "execution_count": 3,
   "metadata": {},
   "outputs": [],
   "source": [
    "d = nlp(u\"The man playing loud music so late at night is an idiot\")"
   ]
  },
  {
   "cell_type": "code",
   "execution_count": 4,
   "metadata": {},
   "outputs": [
    {
     "name": "stdout",
     "output_type": "stream",
     "text": [
      "The man\n",
      "loud music\n",
      "night\n",
      "an idiot\n"
     ]
    }
   ],
   "source": [
    "for token in d.noun_chunks:\n",
    "    print(token.text)"
   ]
  },
  {
   "cell_type": "code",
   "execution_count": 5,
   "metadata": {},
   "outputs": [
    {
     "name": "stdout",
     "output_type": "stream",
     "text": [
      "man\n",
      "music\n",
      "night\n",
      "idiot\n"
     ]
    }
   ],
   "source": [
    "# Root text\n",
    "# The main noun to the rest\n",
    "for token in d.noun_chunks:\n",
    "    print(token.root.text)"
   ]
  },
  {
   "cell_type": "code",
   "execution_count": 6,
   "metadata": {},
   "outputs": [
    {
     "name": "stdout",
     "output_type": "stream",
     "text": [
      "man connector_text: is\n",
      "music connector_text: playing\n",
      "night connector_text: at\n",
      "idiot connector_text: is\n"
     ]
    }
   ],
   "source": [
    "# Text of the root token head\n",
    "for token in d.noun_chunks:\n",
    "    print(token.root.text,\"connector_text:\",token.root.head.text)"
   ]
  },
  {
   "cell_type": "code",
   "execution_count": null,
   "metadata": {},
   "outputs": [],
   "source": []
  }
 ],
 "metadata": {
  "kernelspec": {
   "display_name": "Python 3",
   "language": "python",
   "name": "python3"
  },
  "language_info": {
   "codemirror_mode": {
    "name": "ipython",
    "version": 3
   },
   "file_extension": ".py",
   "mimetype": "text/x-python",
   "name": "python",
   "nbconvert_exporter": "python",
   "pygments_lexer": "ipython3",
   "version": "3.6.5"
  }
 },
 "nbformat": 4,
 "nbformat_minor": 2
}
